{
 "cells": [
  {
   "cell_type": "markdown",
   "id": "63bf5f16",
   "metadata": {},
   "source": [
    "# Exploratory Data Analysis of Shark Tank Dataset (Season 1)"
   ]
  },
  {
   "cell_type": "markdown",
   "id": "71e566db",
   "metadata": {},
   "source": [
    "### Welcome to my Shark Tank project in Jupyter Notebook! In this project, I have embarked on a fascinating journey of exploring and analyzing the Shark Tank Season 1 dataset, which I obtainied from Kaggle. This dataset is a treasure trove of information about startup number, brand name, description, deal offered,  start ups request amount, deal equity, amount agreed by sharks, equity per shark and more providing a comprehensive snapshot of the shark tank season 1."
   ]
  },
  {
   "cell_type": "markdown",
   "id": "bbfaf8a2",
   "metadata": {},
   "source": [
    "### Throughout this project, I have employed the powerful techniques of Exploratory Data Analysis (EDA) and feature engineering to uncover valuable insights and patters hidden within the dataset."
   ]
  },
  {
   "cell_type": "markdown",
   "id": "5224c095",
   "metadata": {},
   "source": [
    "### The collected data has been stored in the Comma Separated Value file \"Shark_Tank_India_S1.csv\". Each startup is uniquely identified by its startup_number. Every startup contains the following variables:-\n",
    "- episode_number: Episode number out of 36 episodes\n",
    "- startup_number: Startup Number out of 121 startups \n",
    "- brand_name: Name of the startup\n",
    "- description: Brief introduction of the startup\n",
    "- startup_ask_amount_lakhs: Startup's demand amount from the sharks\n",
    "- startup_ask_percentage: \n",
    "- startup_ask_valuation: Valuation calculated by the startup\n",
    "- deal_amount_lakhs: Amount agreed by the sharks to invest\n",
    "- deal_equity: Equity agreed by both the startup and the sharks for the deal\n",
    "- deal_valuation: Valuation by the company in future\n",
    "- loan_element_present: If loan is taken or not\n",
    "- loan_amount: Loan amount if taken\n",
    "- rannvijay_present: Ranvijay is present in that episode or not\n",
    "- abish_present: Abish is present in that episode or not\n",
    "- aman_present: Aman is present in that episode or not\n",
    "- aman_invested: Aman has invested or not\n",
    "- anupam_present: Anupam is present in that episode or not\n",
    "- anupam_invested: Anupam has invested or not\n",
    "- ashneer_present: Ashneer is present in that episode or not\n",
    "- ashneer_invested: Ashneer has invested or not\n",
    "- ghazal_present: Ghazal is present in that episode or not\n",
    "- ghazal_invested: Ghazal has invested or not\n",
    "- namita_present: Namita is present in that episode or not\n",
    "- namita_invested: Namita has invested or not\n",
    "- peyush_present: Peyush is present in that episode or not\n",
    "- peyush_invested: Peyush has invested or not\n",
    "- vineeta_present: Vineeta is present in that episode or not\n",
    "- vineeta_invested: Vineeta has invested or not\n",
    "- sharks_offering: Total Sharks present in a single deal\n",
    "- amount_per_shark: Deal amount divided per sharks\n",
    "- equity_per_shark: Equity divided per sharks"
   ]
  },
  {
   "cell_type": "code",
   "execution_count": 1,
   "id": "ce6e315a",
   "metadata": {},
   "outputs": [],
   "source": [
    "# Importing the necessary libraries for the project\n",
    "\n",
    "import pandas as pd\n",
    "import numpy as np\n",
    "import matplotlib.pyplot as plt\n",
    "import seaborn as sns"
   ]
  },
  {
   "cell_type": "code",
   "execution_count": 2,
   "id": "724976c7",
   "metadata": {},
   "outputs": [],
   "source": [
    "# Reading the data as df saved as csv\n",
    "\n",
    "df = pd.read_csv('Shark_Tank_India_S1.csv')"
   ]
  },
  {
   "cell_type": "code",
   "execution_count": 3,
   "id": "c064b45e",
   "metadata": {
    "scrolled": false
   },
   "outputs": [
    {
     "data": {
      "text/html": [
       "<div>\n",
       "<style scoped>\n",
       "    .dataframe tbody tr th:only-of-type {\n",
       "        vertical-align: middle;\n",
       "    }\n",
       "\n",
       "    .dataframe tbody tr th {\n",
       "        vertical-align: top;\n",
       "    }\n",
       "\n",
       "    .dataframe thead th {\n",
       "        text-align: right;\n",
       "    }\n",
       "</style>\n",
       "<table border=\"1\" class=\"dataframe\">\n",
       "  <thead>\n",
       "    <tr style=\"text-align: right;\">\n",
       "      <th></th>\n",
       "      <th>episode_number</th>\n",
       "      <th>startup_number</th>\n",
       "      <th>brand_name</th>\n",
       "      <th>description</th>\n",
       "      <th>deal_offered</th>\n",
       "      <th>startup_ask_amount_lakhs</th>\n",
       "      <th>startup_ask_percentage</th>\n",
       "      <th>startup_ask_valuation</th>\n",
       "      <th>deal_amount_lakhs</th>\n",
       "      <th>deal_equity</th>\n",
       "      <th>...</th>\n",
       "      <th>ghazal_invested</th>\n",
       "      <th>namita_present</th>\n",
       "      <th>namita_invested</th>\n",
       "      <th>peyush_present</th>\n",
       "      <th>peyush_invested</th>\n",
       "      <th>vineeta_present</th>\n",
       "      <th>vineeta_invested</th>\n",
       "      <th>sharks_offering</th>\n",
       "      <th>amount_per_shark</th>\n",
       "      <th>equity_per_shark</th>\n",
       "    </tr>\n",
       "  </thead>\n",
       "  <tbody>\n",
       "    <tr>\n",
       "      <th>0</th>\n",
       "      <td>1</td>\n",
       "      <td>1</td>\n",
       "      <td>BluePine Industries</td>\n",
       "      <td>Frozen Momos</td>\n",
       "      <td>1</td>\n",
       "      <td>50.0</td>\n",
       "      <td>5.00</td>\n",
       "      <td>1000.00</td>\n",
       "      <td>75.0</td>\n",
       "      <td>16.00</td>\n",
       "      <td>...</td>\n",
       "      <td>0</td>\n",
       "      <td>1</td>\n",
       "      <td>0</td>\n",
       "      <td>0</td>\n",
       "      <td>0</td>\n",
       "      <td>1</td>\n",
       "      <td>1</td>\n",
       "      <td>3</td>\n",
       "      <td>25.0</td>\n",
       "      <td>5.333333</td>\n",
       "    </tr>\n",
       "    <tr>\n",
       "      <th>1</th>\n",
       "      <td>1</td>\n",
       "      <td>2</td>\n",
       "      <td>Booz scooters</td>\n",
       "      <td>Renting e-bike for mobility in private spaces</td>\n",
       "      <td>1</td>\n",
       "      <td>40.0</td>\n",
       "      <td>15.00</td>\n",
       "      <td>266.67</td>\n",
       "      <td>40.0</td>\n",
       "      <td>50.00</td>\n",
       "      <td>...</td>\n",
       "      <td>0</td>\n",
       "      <td>1</td>\n",
       "      <td>0</td>\n",
       "      <td>0</td>\n",
       "      <td>0</td>\n",
       "      <td>1</td>\n",
       "      <td>1</td>\n",
       "      <td>2</td>\n",
       "      <td>20.0</td>\n",
       "      <td>25.000000</td>\n",
       "    </tr>\n",
       "    <tr>\n",
       "      <th>2</th>\n",
       "      <td>1</td>\n",
       "      <td>3</td>\n",
       "      <td>Heart up my Sleeves</td>\n",
       "      <td>Detachable Sleeves</td>\n",
       "      <td>1</td>\n",
       "      <td>25.0</td>\n",
       "      <td>10.00</td>\n",
       "      <td>250.00</td>\n",
       "      <td>25.0</td>\n",
       "      <td>30.00</td>\n",
       "      <td>...</td>\n",
       "      <td>0</td>\n",
       "      <td>1</td>\n",
       "      <td>0</td>\n",
       "      <td>0</td>\n",
       "      <td>0</td>\n",
       "      <td>1</td>\n",
       "      <td>1</td>\n",
       "      <td>2</td>\n",
       "      <td>12.5</td>\n",
       "      <td>15.000000</td>\n",
       "    </tr>\n",
       "    <tr>\n",
       "      <th>3</th>\n",
       "      <td>2</td>\n",
       "      <td>4</td>\n",
       "      <td>Tagz Foods</td>\n",
       "      <td>Healthy Potato Chips</td>\n",
       "      <td>1</td>\n",
       "      <td>70.0</td>\n",
       "      <td>1.00</td>\n",
       "      <td>7000.00</td>\n",
       "      <td>70.0</td>\n",
       "      <td>2.75</td>\n",
       "      <td>...</td>\n",
       "      <td>0</td>\n",
       "      <td>1</td>\n",
       "      <td>0</td>\n",
       "      <td>0</td>\n",
       "      <td>0</td>\n",
       "      <td>1</td>\n",
       "      <td>0</td>\n",
       "      <td>1</td>\n",
       "      <td>70.0</td>\n",
       "      <td>2.750000</td>\n",
       "    </tr>\n",
       "    <tr>\n",
       "      <th>4</th>\n",
       "      <td>2</td>\n",
       "      <td>5</td>\n",
       "      <td>Head and Heart</td>\n",
       "      <td>Brain Development Course</td>\n",
       "      <td>0</td>\n",
       "      <td>50.0</td>\n",
       "      <td>5.00</td>\n",
       "      <td>1000.00</td>\n",
       "      <td>0.0</td>\n",
       "      <td>0.00</td>\n",
       "      <td>...</td>\n",
       "      <td>0</td>\n",
       "      <td>1</td>\n",
       "      <td>0</td>\n",
       "      <td>0</td>\n",
       "      <td>0</td>\n",
       "      <td>1</td>\n",
       "      <td>0</td>\n",
       "      <td>0</td>\n",
       "      <td>0.0</td>\n",
       "      <td>0.000000</td>\n",
       "    </tr>\n",
       "    <tr>\n",
       "      <th>...</th>\n",
       "      <td>...</td>\n",
       "      <td>...</td>\n",
       "      <td>...</td>\n",
       "      <td>...</td>\n",
       "      <td>...</td>\n",
       "      <td>...</td>\n",
       "      <td>...</td>\n",
       "      <td>...</td>\n",
       "      <td>...</td>\n",
       "      <td>...</td>\n",
       "      <td>...</td>\n",
       "      <td>...</td>\n",
       "      <td>...</td>\n",
       "      <td>...</td>\n",
       "      <td>...</td>\n",
       "      <td>...</td>\n",
       "      <td>...</td>\n",
       "      <td>...</td>\n",
       "      <td>...</td>\n",
       "      <td>...</td>\n",
       "      <td>...</td>\n",
       "    </tr>\n",
       "    <tr>\n",
       "      <th>116</th>\n",
       "      <td>35</td>\n",
       "      <td>117</td>\n",
       "      <td>Elcare India</td>\n",
       "      <td>Carenting for Elders</td>\n",
       "      <td>0</td>\n",
       "      <td>100.0</td>\n",
       "      <td>2.50</td>\n",
       "      <td>4000.00</td>\n",
       "      <td>0.0</td>\n",
       "      <td>0.00</td>\n",
       "      <td>...</td>\n",
       "      <td>0</td>\n",
       "      <td>1</td>\n",
       "      <td>0</td>\n",
       "      <td>1</td>\n",
       "      <td>0</td>\n",
       "      <td>1</td>\n",
       "      <td>0</td>\n",
       "      <td>0</td>\n",
       "      <td>0.0</td>\n",
       "      <td>0.000000</td>\n",
       "    </tr>\n",
       "    <tr>\n",
       "      <th>117</th>\n",
       "      <td>36</td>\n",
       "      <td>118</td>\n",
       "      <td>Sneakare</td>\n",
       "      <td>Shoe care and storage solutions</td>\n",
       "      <td>1</td>\n",
       "      <td>20.0</td>\n",
       "      <td>5.00</td>\n",
       "      <td>400.00</td>\n",
       "      <td>21.0</td>\n",
       "      <td>12.00</td>\n",
       "      <td>...</td>\n",
       "      <td>0</td>\n",
       "      <td>1</td>\n",
       "      <td>1</td>\n",
       "      <td>1</td>\n",
       "      <td>0</td>\n",
       "      <td>1</td>\n",
       "      <td>1</td>\n",
       "      <td>3</td>\n",
       "      <td>7.0</td>\n",
       "      <td>4.000000</td>\n",
       "    </tr>\n",
       "    <tr>\n",
       "      <th>118</th>\n",
       "      <td>36</td>\n",
       "      <td>119</td>\n",
       "      <td>French Crown</td>\n",
       "      <td>Clothing Industry</td>\n",
       "      <td>0</td>\n",
       "      <td>150.0</td>\n",
       "      <td>0.33</td>\n",
       "      <td>45000.00</td>\n",
       "      <td>0.0</td>\n",
       "      <td>0.00</td>\n",
       "      <td>...</td>\n",
       "      <td>0</td>\n",
       "      <td>1</td>\n",
       "      <td>0</td>\n",
       "      <td>1</td>\n",
       "      <td>0</td>\n",
       "      <td>1</td>\n",
       "      <td>0</td>\n",
       "      <td>0</td>\n",
       "      <td>0.0</td>\n",
       "      <td>0.000000</td>\n",
       "    </tr>\n",
       "    <tr>\n",
       "      <th>119</th>\n",
       "      <td>36</td>\n",
       "      <td>120</td>\n",
       "      <td>Store My Goods</td>\n",
       "      <td>Storage solutions</td>\n",
       "      <td>1</td>\n",
       "      <td>100.0</td>\n",
       "      <td>1.75</td>\n",
       "      <td>5714.00</td>\n",
       "      <td>100.0</td>\n",
       "      <td>4.00</td>\n",
       "      <td>...</td>\n",
       "      <td>0</td>\n",
       "      <td>1</td>\n",
       "      <td>1</td>\n",
       "      <td>1</td>\n",
       "      <td>1</td>\n",
       "      <td>1</td>\n",
       "      <td>0</td>\n",
       "      <td>2</td>\n",
       "      <td>50.0</td>\n",
       "      <td>2.000000</td>\n",
       "    </tr>\n",
       "    <tr>\n",
       "      <th>120</th>\n",
       "      <td>36</td>\n",
       "      <td>121</td>\n",
       "      <td>Devnagri</td>\n",
       "      <td>Translation platform</td>\n",
       "      <td>0</td>\n",
       "      <td>100.0</td>\n",
       "      <td>1.00</td>\n",
       "      <td>10000.00</td>\n",
       "      <td>0.0</td>\n",
       "      <td>0.00</td>\n",
       "      <td>...</td>\n",
       "      <td>0</td>\n",
       "      <td>1</td>\n",
       "      <td>0</td>\n",
       "      <td>1</td>\n",
       "      <td>0</td>\n",
       "      <td>1</td>\n",
       "      <td>0</td>\n",
       "      <td>0</td>\n",
       "      <td>0.0</td>\n",
       "      <td>0.000000</td>\n",
       "    </tr>\n",
       "  </tbody>\n",
       "</table>\n",
       "<p>121 rows × 32 columns</p>\n",
       "</div>"
      ],
      "text/plain": [
       "     episode_number  startup_number           brand_name  \\\n",
       "0                 1               1  BluePine Industries   \n",
       "1                 1               2        Booz scooters   \n",
       "2                 1               3  Heart up my Sleeves   \n",
       "3                 2               4           Tagz Foods   \n",
       "4                 2               5       Head and Heart   \n",
       "..              ...             ...                  ...   \n",
       "116              35             117         Elcare India   \n",
       "117              36             118             Sneakare   \n",
       "118              36             119         French Crown   \n",
       "119              36             120       Store My Goods   \n",
       "120              36             121             Devnagri   \n",
       "\n",
       "                                       description  deal_offered  \\\n",
       "0                                     Frozen Momos             1   \n",
       "1    Renting e-bike for mobility in private spaces             1   \n",
       "2                               Detachable Sleeves             1   \n",
       "3                             Healthy Potato Chips             1   \n",
       "4                         Brain Development Course             0   \n",
       "..                                             ...           ...   \n",
       "116                           Carenting for Elders             0   \n",
       "117                Shoe care and storage solutions             1   \n",
       "118                              Clothing Industry             0   \n",
       "119                              Storage solutions             1   \n",
       "120                           Translation platform             0   \n",
       "\n",
       "     startup_ask_amount_lakhs  startup_ask_percentage  startup_ask_valuation  \\\n",
       "0                        50.0                    5.00                1000.00   \n",
       "1                        40.0                   15.00                 266.67   \n",
       "2                        25.0                   10.00                 250.00   \n",
       "3                        70.0                    1.00                7000.00   \n",
       "4                        50.0                    5.00                1000.00   \n",
       "..                        ...                     ...                    ...   \n",
       "116                     100.0                    2.50                4000.00   \n",
       "117                      20.0                    5.00                 400.00   \n",
       "118                     150.0                    0.33               45000.00   \n",
       "119                     100.0                    1.75                5714.00   \n",
       "120                     100.0                    1.00               10000.00   \n",
       "\n",
       "     deal_amount_lakhs  deal_equity  ...  ghazal_invested  namita_present  \\\n",
       "0                 75.0        16.00  ...                0               1   \n",
       "1                 40.0        50.00  ...                0               1   \n",
       "2                 25.0        30.00  ...                0               1   \n",
       "3                 70.0         2.75  ...                0               1   \n",
       "4                  0.0         0.00  ...                0               1   \n",
       "..                 ...          ...  ...              ...             ...   \n",
       "116                0.0         0.00  ...                0               1   \n",
       "117               21.0        12.00  ...                0               1   \n",
       "118                0.0         0.00  ...                0               1   \n",
       "119              100.0         4.00  ...                0               1   \n",
       "120                0.0         0.00  ...                0               1   \n",
       "\n",
       "     namita_invested  peyush_present  peyush_invested  vineeta_present  \\\n",
       "0                  0               0                0                1   \n",
       "1                  0               0                0                1   \n",
       "2                  0               0                0                1   \n",
       "3                  0               0                0                1   \n",
       "4                  0               0                0                1   \n",
       "..               ...             ...              ...              ...   \n",
       "116                0               1                0                1   \n",
       "117                1               1                0                1   \n",
       "118                0               1                0                1   \n",
       "119                1               1                1                1   \n",
       "120                0               1                0                1   \n",
       "\n",
       "     vineeta_invested  sharks_offering  amount_per_shark  equity_per_shark  \n",
       "0                   1                3              25.0          5.333333  \n",
       "1                   1                2              20.0         25.000000  \n",
       "2                   1                2              12.5         15.000000  \n",
       "3                   0                1              70.0          2.750000  \n",
       "4                   0                0               0.0          0.000000  \n",
       "..                ...              ...               ...               ...  \n",
       "116                 0                0               0.0          0.000000  \n",
       "117                 1                3               7.0          4.000000  \n",
       "118                 0                0               0.0          0.000000  \n",
       "119                 0                2              50.0          2.000000  \n",
       "120                 0                0               0.0          0.000000  \n",
       "\n",
       "[121 rows x 32 columns]"
      ]
     },
     "execution_count": 3,
     "metadata": {},
     "output_type": "execute_result"
    }
   ],
   "source": [
    "df"
   ]
  },
  {
   "cell_type": "code",
   "execution_count": 4,
   "id": "5f0a2c2a",
   "metadata": {},
   "outputs": [
    {
     "data": {
      "text/plain": [
       "Index(['episode_number', 'startup_number', 'brand_name', 'description',\n",
       "       'deal_offered', 'startup_ask_amount_lakhs', 'startup_ask_percentage',\n",
       "       'startup_ask_valuation', 'deal_amount_lakhs', 'deal_equity',\n",
       "       'deal_valuation', 'loan_element_present', 'loan_amount',\n",
       "       'rannvijay_present', 'abish_present', 'aman_present', 'aman_invested',\n",
       "       'anupam_present', 'anupam_invested', 'ashneer_present',\n",
       "       'ashneer_invested', 'ghazal_present', 'ghazal_invested',\n",
       "       'namita_present', 'namita_invested', 'peyush_present',\n",
       "       'peyush_invested', 'vineeta_present', 'vineeta_invested',\n",
       "       'sharks_offering', 'amount_per_shark', 'equity_per_shark'],\n",
       "      dtype='object')"
      ]
     },
     "execution_count": 4,
     "metadata": {},
     "output_type": "execute_result"
    }
   ],
   "source": [
    "# Checking the columns present in the data\n",
    "df.columns"
   ]
  },
  {
   "cell_type": "code",
   "execution_count": 5,
   "id": "7ded576a",
   "metadata": {},
   "outputs": [],
   "source": [
    "df.drop(['rannvijay_present', 'abish_present'], axis=1, inplace=True)"
   ]
  },
  {
   "cell_type": "markdown",
   "id": "8aa46eff",
   "metadata": {},
   "source": [
    "- Rannvijay and Abish were not among the sharks in Shark Tank season 1"
   ]
  },
  {
   "cell_type": "code",
   "execution_count": 6,
   "id": "f68983cd",
   "metadata": {},
   "outputs": [
    {
     "data": {
      "text/html": [
       "<div>\n",
       "<style scoped>\n",
       "    .dataframe tbody tr th:only-of-type {\n",
       "        vertical-align: middle;\n",
       "    }\n",
       "\n",
       "    .dataframe tbody tr th {\n",
       "        vertical-align: top;\n",
       "    }\n",
       "\n",
       "    .dataframe thead th {\n",
       "        text-align: right;\n",
       "    }\n",
       "</style>\n",
       "<table border=\"1\" class=\"dataframe\">\n",
       "  <thead>\n",
       "    <tr style=\"text-align: right;\">\n",
       "      <th></th>\n",
       "      <th>episode_number</th>\n",
       "      <th>startup_number</th>\n",
       "      <th>brand_name</th>\n",
       "      <th>description</th>\n",
       "      <th>deal_offered</th>\n",
       "      <th>startup_ask_amount_lakhs</th>\n",
       "      <th>startup_ask_percentage</th>\n",
       "      <th>startup_ask_valuation</th>\n",
       "      <th>deal_amount_lakhs</th>\n",
       "      <th>deal_equity</th>\n",
       "      <th>...</th>\n",
       "      <th>ghazal_invested</th>\n",
       "      <th>namita_present</th>\n",
       "      <th>namita_invested</th>\n",
       "      <th>peyush_present</th>\n",
       "      <th>peyush_invested</th>\n",
       "      <th>vineeta_present</th>\n",
       "      <th>vineeta_invested</th>\n",
       "      <th>sharks_offering</th>\n",
       "      <th>amount_per_shark</th>\n",
       "      <th>equity_per_shark</th>\n",
       "    </tr>\n",
       "  </thead>\n",
       "  <tbody>\n",
       "    <tr>\n",
       "      <th>58</th>\n",
       "      <td>19</td>\n",
       "      <td>59</td>\n",
       "      <td>WeSTOCK</td>\n",
       "      <td>Livestock health monitoring AI</td>\n",
       "      <td>1</td>\n",
       "      <td>50.0</td>\n",
       "      <td>5.00</td>\n",
       "      <td>1000.0</td>\n",
       "      <td>60.0</td>\n",
       "      <td>10.0</td>\n",
       "      <td>...</td>\n",
       "      <td>0</td>\n",
       "      <td>1</td>\n",
       "      <td>1</td>\n",
       "      <td>1</td>\n",
       "      <td>1</td>\n",
       "      <td>0</td>\n",
       "      <td>0</td>\n",
       "      <td>4</td>\n",
       "      <td>15.0</td>\n",
       "      <td>2.50</td>\n",
       "    </tr>\n",
       "    <tr>\n",
       "      <th>11</th>\n",
       "      <td>4</td>\n",
       "      <td>12</td>\n",
       "      <td>Bummer</td>\n",
       "      <td>Underwear</td>\n",
       "      <td>1</td>\n",
       "      <td>75.0</td>\n",
       "      <td>4.00</td>\n",
       "      <td>1875.0</td>\n",
       "      <td>75.0</td>\n",
       "      <td>7.5</td>\n",
       "      <td>...</td>\n",
       "      <td>0</td>\n",
       "      <td>1</td>\n",
       "      <td>1</td>\n",
       "      <td>0</td>\n",
       "      <td>0</td>\n",
       "      <td>1</td>\n",
       "      <td>0</td>\n",
       "      <td>2</td>\n",
       "      <td>37.5</td>\n",
       "      <td>3.75</td>\n",
       "    </tr>\n",
       "    <tr>\n",
       "      <th>49</th>\n",
       "      <td>17</td>\n",
       "      <td>50</td>\n",
       "      <td>Find Your Kicks India</td>\n",
       "      <td>Sneaker Resale</td>\n",
       "      <td>1</td>\n",
       "      <td>50.0</td>\n",
       "      <td>10.00</td>\n",
       "      <td>500.0</td>\n",
       "      <td>50.0</td>\n",
       "      <td>25.0</td>\n",
       "      <td>...</td>\n",
       "      <td>0</td>\n",
       "      <td>1</td>\n",
       "      <td>1</td>\n",
       "      <td>1</td>\n",
       "      <td>1</td>\n",
       "      <td>0</td>\n",
       "      <td>0</td>\n",
       "      <td>5</td>\n",
       "      <td>10.0</td>\n",
       "      <td>5.00</td>\n",
       "    </tr>\n",
       "    <tr>\n",
       "      <th>41</th>\n",
       "      <td>14</td>\n",
       "      <td>42</td>\n",
       "      <td>Good Good Piggy Bank</td>\n",
       "      <td>Digital Piggy Bank</td>\n",
       "      <td>0</td>\n",
       "      <td>45.0</td>\n",
       "      <td>5.00</td>\n",
       "      <td>900.0</td>\n",
       "      <td>0.0</td>\n",
       "      <td>0.0</td>\n",
       "      <td>...</td>\n",
       "      <td>0</td>\n",
       "      <td>1</td>\n",
       "      <td>0</td>\n",
       "      <td>1</td>\n",
       "      <td>0</td>\n",
       "      <td>0</td>\n",
       "      <td>0</td>\n",
       "      <td>0</td>\n",
       "      <td>0.0</td>\n",
       "      <td>0.00</td>\n",
       "    </tr>\n",
       "    <tr>\n",
       "      <th>59</th>\n",
       "      <td>19</td>\n",
       "      <td>60</td>\n",
       "      <td>KetoIndia</td>\n",
       "      <td>Customised Keto Diets for various medical issues</td>\n",
       "      <td>0</td>\n",
       "      <td>125.0</td>\n",
       "      <td>1.25</td>\n",
       "      <td>10000.0</td>\n",
       "      <td>0.0</td>\n",
       "      <td>0.0</td>\n",
       "      <td>...</td>\n",
       "      <td>0</td>\n",
       "      <td>1</td>\n",
       "      <td>0</td>\n",
       "      <td>1</td>\n",
       "      <td>0</td>\n",
       "      <td>0</td>\n",
       "      <td>0</td>\n",
       "      <td>0</td>\n",
       "      <td>0.0</td>\n",
       "      <td>0.00</td>\n",
       "    </tr>\n",
       "  </tbody>\n",
       "</table>\n",
       "<p>5 rows × 30 columns</p>\n",
       "</div>"
      ],
      "text/plain": [
       "    episode_number  startup_number             brand_name  \\\n",
       "58              19              59                WeSTOCK   \n",
       "11               4              12                 Bummer   \n",
       "49              17              50  Find Your Kicks India   \n",
       "41              14              42   Good Good Piggy Bank   \n",
       "59              19              60              KetoIndia   \n",
       "\n",
       "                                         description  deal_offered  \\\n",
       "58                    Livestock health monitoring AI             1   \n",
       "11                                         Underwear             1   \n",
       "49                                    Sneaker Resale             1   \n",
       "41                                Digital Piggy Bank             0   \n",
       "59  Customised Keto Diets for various medical issues             0   \n",
       "\n",
       "    startup_ask_amount_lakhs  startup_ask_percentage  startup_ask_valuation  \\\n",
       "58                      50.0                    5.00                 1000.0   \n",
       "11                      75.0                    4.00                 1875.0   \n",
       "49                      50.0                   10.00                  500.0   \n",
       "41                      45.0                    5.00                  900.0   \n",
       "59                     125.0                    1.25                10000.0   \n",
       "\n",
       "    deal_amount_lakhs  deal_equity  ...  ghazal_invested  namita_present  \\\n",
       "58               60.0         10.0  ...                0               1   \n",
       "11               75.0          7.5  ...                0               1   \n",
       "49               50.0         25.0  ...                0               1   \n",
       "41                0.0          0.0  ...                0               1   \n",
       "59                0.0          0.0  ...                0               1   \n",
       "\n",
       "    namita_invested  peyush_present  peyush_invested  vineeta_present  \\\n",
       "58                1               1                1                0   \n",
       "11                1               0                0                1   \n",
       "49                1               1                1                0   \n",
       "41                0               1                0                0   \n",
       "59                0               1                0                0   \n",
       "\n",
       "    vineeta_invested  sharks_offering  amount_per_shark  equity_per_shark  \n",
       "58                 0                4              15.0              2.50  \n",
       "11                 0                2              37.5              3.75  \n",
       "49                 0                5              10.0              5.00  \n",
       "41                 0                0               0.0              0.00  \n",
       "59                 0                0               0.0              0.00  \n",
       "\n",
       "[5 rows x 30 columns]"
      ]
     },
     "execution_count": 6,
     "metadata": {},
     "output_type": "execute_result"
    }
   ],
   "source": [
    "# Checking 5 samples of data\n",
    "df.sample(5)"
   ]
  },
  {
   "cell_type": "code",
   "execution_count": 7,
   "id": "08ab4248",
   "metadata": {},
   "outputs": [
    {
     "name": "stdout",
     "output_type": "stream",
     "text": [
      "<class 'pandas.core.frame.DataFrame'>\n",
      "RangeIndex: 121 entries, 0 to 120\n",
      "Data columns (total 30 columns):\n",
      " #   Column                    Non-Null Count  Dtype  \n",
      "---  ------                    --------------  -----  \n",
      " 0   episode_number            121 non-null    int64  \n",
      " 1   startup_number            121 non-null    int64  \n",
      " 2   brand_name                121 non-null    object \n",
      " 3   description               121 non-null    object \n",
      " 4   deal_offered              121 non-null    int64  \n",
      " 5   startup_ask_amount_lakhs  121 non-null    float64\n",
      " 6   startup_ask_percentage    121 non-null    float64\n",
      " 7   startup_ask_valuation     121 non-null    float64\n",
      " 8   deal_amount_lakhs         121 non-null    float64\n",
      " 9   deal_equity               121 non-null    float64\n",
      " 10  deal_valuation            121 non-null    float64\n",
      " 11  loan_element_present      121 non-null    int64  \n",
      " 12  loan_amount               121 non-null    int64  \n",
      " 13  aman_present              121 non-null    int64  \n",
      " 14  aman_invested             121 non-null    int64  \n",
      " 15  anupam_present            121 non-null    int64  \n",
      " 16  anupam_invested           121 non-null    int64  \n",
      " 17  ashneer_present           121 non-null    int64  \n",
      " 18  ashneer_invested          121 non-null    int64  \n",
      " 19  ghazal_present            121 non-null    int64  \n",
      " 20  ghazal_invested           121 non-null    int64  \n",
      " 21  namita_present            121 non-null    int64  \n",
      " 22  namita_invested           121 non-null    int64  \n",
      " 23  peyush_present            121 non-null    int64  \n",
      " 24  peyush_invested           121 non-null    int64  \n",
      " 25  vineeta_present           121 non-null    int64  \n",
      " 26  vineeta_invested          121 non-null    int64  \n",
      " 27  sharks_offering           121 non-null    int64  \n",
      " 28  amount_per_shark          121 non-null    float64\n",
      " 29  equity_per_shark          121 non-null    float64\n",
      "dtypes: float64(8), int64(20), object(2)\n",
      "memory usage: 28.5+ KB\n"
     ]
    }
   ],
   "source": [
    "# Checking the basic information of the data\n",
    "\n",
    "df.info()"
   ]
  },
  {
   "cell_type": "code",
   "execution_count": 8,
   "id": "9654d832",
   "metadata": {},
   "outputs": [
    {
     "data": {
      "text/plain": [
       "(121, 30)"
      ]
     },
     "execution_count": 8,
     "metadata": {},
     "output_type": "execute_result"
    }
   ],
   "source": [
    "# Checking the shape of the data (rows and columns)\n",
    "\n",
    "df.shape"
   ]
  },
  {
   "cell_type": "markdown",
   "id": "45227ab4",
   "metadata": {},
   "source": [
    "## 1. Finding the over all statistics of the data"
   ]
  },
  {
   "cell_type": "code",
   "execution_count": 9,
   "id": "9f7fbb5f",
   "metadata": {},
   "outputs": [
    {
     "data": {
      "text/html": [
       "<div>\n",
       "<style scoped>\n",
       "    .dataframe tbody tr th:only-of-type {\n",
       "        vertical-align: middle;\n",
       "    }\n",
       "\n",
       "    .dataframe tbody tr th {\n",
       "        vertical-align: top;\n",
       "    }\n",
       "\n",
       "    .dataframe thead th {\n",
       "        text-align: right;\n",
       "    }\n",
       "</style>\n",
       "<table border=\"1\" class=\"dataframe\">\n",
       "  <thead>\n",
       "    <tr style=\"text-align: right;\">\n",
       "      <th></th>\n",
       "      <th>episode_number</th>\n",
       "      <th>startup_number</th>\n",
       "      <th>brand_name</th>\n",
       "      <th>description</th>\n",
       "      <th>deal_offered</th>\n",
       "      <th>startup_ask_amount_lakhs</th>\n",
       "      <th>startup_ask_percentage</th>\n",
       "      <th>startup_ask_valuation</th>\n",
       "      <th>deal_amount_lakhs</th>\n",
       "      <th>deal_equity</th>\n",
       "      <th>...</th>\n",
       "      <th>ghazal_invested</th>\n",
       "      <th>namita_present</th>\n",
       "      <th>namita_invested</th>\n",
       "      <th>peyush_present</th>\n",
       "      <th>peyush_invested</th>\n",
       "      <th>vineeta_present</th>\n",
       "      <th>vineeta_invested</th>\n",
       "      <th>sharks_offering</th>\n",
       "      <th>amount_per_shark</th>\n",
       "      <th>equity_per_shark</th>\n",
       "    </tr>\n",
       "  </thead>\n",
       "  <tbody>\n",
       "    <tr>\n",
       "      <th>count</th>\n",
       "      <td>121.000000</td>\n",
       "      <td>121.000000</td>\n",
       "      <td>121</td>\n",
       "      <td>121</td>\n",
       "      <td>121.000000</td>\n",
       "      <td>121.000000</td>\n",
       "      <td>121.000000</td>\n",
       "      <td>121.000000</td>\n",
       "      <td>121.000000</td>\n",
       "      <td>121.000000</td>\n",
       "      <td>...</td>\n",
       "      <td>121.000000</td>\n",
       "      <td>121.000000</td>\n",
       "      <td>121.000000</td>\n",
       "      <td>121.000000</td>\n",
       "      <td>121.000000</td>\n",
       "      <td>121.000000</td>\n",
       "      <td>121.000000</td>\n",
       "      <td>121.000000</td>\n",
       "      <td>121.000000</td>\n",
       "      <td>121.000000</td>\n",
       "    </tr>\n",
       "    <tr>\n",
       "      <th>unique</th>\n",
       "      <td>NaN</td>\n",
       "      <td>NaN</td>\n",
       "      <td>121</td>\n",
       "      <td>121</td>\n",
       "      <td>NaN</td>\n",
       "      <td>NaN</td>\n",
       "      <td>NaN</td>\n",
       "      <td>NaN</td>\n",
       "      <td>NaN</td>\n",
       "      <td>NaN</td>\n",
       "      <td>...</td>\n",
       "      <td>NaN</td>\n",
       "      <td>NaN</td>\n",
       "      <td>NaN</td>\n",
       "      <td>NaN</td>\n",
       "      <td>NaN</td>\n",
       "      <td>NaN</td>\n",
       "      <td>NaN</td>\n",
       "      <td>NaN</td>\n",
       "      <td>NaN</td>\n",
       "      <td>NaN</td>\n",
       "    </tr>\n",
       "    <tr>\n",
       "      <th>top</th>\n",
       "      <td>NaN</td>\n",
       "      <td>NaN</td>\n",
       "      <td>BluePine Industries</td>\n",
       "      <td>Frozen Momos</td>\n",
       "      <td>NaN</td>\n",
       "      <td>NaN</td>\n",
       "      <td>NaN</td>\n",
       "      <td>NaN</td>\n",
       "      <td>NaN</td>\n",
       "      <td>NaN</td>\n",
       "      <td>...</td>\n",
       "      <td>NaN</td>\n",
       "      <td>NaN</td>\n",
       "      <td>NaN</td>\n",
       "      <td>NaN</td>\n",
       "      <td>NaN</td>\n",
       "      <td>NaN</td>\n",
       "      <td>NaN</td>\n",
       "      <td>NaN</td>\n",
       "      <td>NaN</td>\n",
       "      <td>NaN</td>\n",
       "    </tr>\n",
       "    <tr>\n",
       "      <th>freq</th>\n",
       "      <td>NaN</td>\n",
       "      <td>NaN</td>\n",
       "      <td>1</td>\n",
       "      <td>1</td>\n",
       "      <td>NaN</td>\n",
       "      <td>NaN</td>\n",
       "      <td>NaN</td>\n",
       "      <td>NaN</td>\n",
       "      <td>NaN</td>\n",
       "      <td>NaN</td>\n",
       "      <td>...</td>\n",
       "      <td>NaN</td>\n",
       "      <td>NaN</td>\n",
       "      <td>NaN</td>\n",
       "      <td>NaN</td>\n",
       "      <td>NaN</td>\n",
       "      <td>NaN</td>\n",
       "      <td>NaN</td>\n",
       "      <td>NaN</td>\n",
       "      <td>NaN</td>\n",
       "      <td>NaN</td>\n",
       "    </tr>\n",
       "    <tr>\n",
       "      <th>mean</th>\n",
       "      <td>19.305785</td>\n",
       "      <td>61.000000</td>\n",
       "      <td>NaN</td>\n",
       "      <td>NaN</td>\n",
       "      <td>0.561983</td>\n",
       "      <td>312.338851</td>\n",
       "      <td>5.083306</td>\n",
       "      <td>4230.182727</td>\n",
       "      <td>31.925629</td>\n",
       "      <td>8.799421</td>\n",
       "      <td>...</td>\n",
       "      <td>0.057851</td>\n",
       "      <td>0.909091</td>\n",
       "      <td>0.198347</td>\n",
       "      <td>0.760331</td>\n",
       "      <td>0.231405</td>\n",
       "      <td>0.578512</td>\n",
       "      <td>0.132231</td>\n",
       "      <td>1.231405</td>\n",
       "      <td>18.004134</td>\n",
       "      <td>5.448595</td>\n",
       "    </tr>\n",
       "    <tr>\n",
       "      <th>std</th>\n",
       "      <td>10.375326</td>\n",
       "      <td>35.073732</td>\n",
       "      <td>NaN</td>\n",
       "      <td>NaN</td>\n",
       "      <td>0.498206</td>\n",
       "      <td>2721.640471</td>\n",
       "      <td>3.882554</td>\n",
       "      <td>12329.894575</td>\n",
       "      <td>36.847011</td>\n",
       "      <td>12.948175</td>\n",
       "      <td>...</td>\n",
       "      <td>0.234433</td>\n",
       "      <td>0.288675</td>\n",
       "      <td>0.400413</td>\n",
       "      <td>0.428657</td>\n",
       "      <td>0.423484</td>\n",
       "      <td>0.495851</td>\n",
       "      <td>0.340151</td>\n",
       "      <td>1.406890</td>\n",
       "      <td>23.512490</td>\n",
       "      <td>10.651783</td>\n",
       "    </tr>\n",
       "    <tr>\n",
       "      <th>min</th>\n",
       "      <td>1.000000</td>\n",
       "      <td>1.000000</td>\n",
       "      <td>NaN</td>\n",
       "      <td>NaN</td>\n",
       "      <td>0.000000</td>\n",
       "      <td>0.001010</td>\n",
       "      <td>0.250000</td>\n",
       "      <td>0.010000</td>\n",
       "      <td>0.000000</td>\n",
       "      <td>0.000000</td>\n",
       "      <td>...</td>\n",
       "      <td>0.000000</td>\n",
       "      <td>0.000000</td>\n",
       "      <td>0.000000</td>\n",
       "      <td>0.000000</td>\n",
       "      <td>0.000000</td>\n",
       "      <td>0.000000</td>\n",
       "      <td>0.000000</td>\n",
       "      <td>0.000000</td>\n",
       "      <td>0.000000</td>\n",
       "      <td>0.000000</td>\n",
       "    </tr>\n",
       "    <tr>\n",
       "      <th>25%</th>\n",
       "      <td>11.000000</td>\n",
       "      <td>31.000000</td>\n",
       "      <td>NaN</td>\n",
       "      <td>NaN</td>\n",
       "      <td>0.000000</td>\n",
       "      <td>45.000000</td>\n",
       "      <td>2.000000</td>\n",
       "      <td>666.670000</td>\n",
       "      <td>0.000000</td>\n",
       "      <td>0.000000</td>\n",
       "      <td>...</td>\n",
       "      <td>0.000000</td>\n",
       "      <td>1.000000</td>\n",
       "      <td>0.000000</td>\n",
       "      <td>1.000000</td>\n",
       "      <td>0.000000</td>\n",
       "      <td>0.000000</td>\n",
       "      <td>0.000000</td>\n",
       "      <td>0.000000</td>\n",
       "      <td>0.000000</td>\n",
       "      <td>0.000000</td>\n",
       "    </tr>\n",
       "    <tr>\n",
       "      <th>50%</th>\n",
       "      <td>19.000000</td>\n",
       "      <td>61.000000</td>\n",
       "      <td>NaN</td>\n",
       "      <td>NaN</td>\n",
       "      <td>1.000000</td>\n",
       "      <td>50.000000</td>\n",
       "      <td>5.000000</td>\n",
       "      <td>1333.330000</td>\n",
       "      <td>21.000000</td>\n",
       "      <td>3.000000</td>\n",
       "      <td>...</td>\n",
       "      <td>0.000000</td>\n",
       "      <td>1.000000</td>\n",
       "      <td>0.000000</td>\n",
       "      <td>1.000000</td>\n",
       "      <td>0.000000</td>\n",
       "      <td>1.000000</td>\n",
       "      <td>0.000000</td>\n",
       "      <td>1.000000</td>\n",
       "      <td>10.000000</td>\n",
       "      <td>1.250000</td>\n",
       "    </tr>\n",
       "    <tr>\n",
       "      <th>75%</th>\n",
       "      <td>28.000000</td>\n",
       "      <td>91.000000</td>\n",
       "      <td>NaN</td>\n",
       "      <td>NaN</td>\n",
       "      <td>1.000000</td>\n",
       "      <td>80.000000</td>\n",
       "      <td>7.000000</td>\n",
       "      <td>3000.000000</td>\n",
       "      <td>50.000000</td>\n",
       "      <td>15.000000</td>\n",
       "      <td>...</td>\n",
       "      <td>0.000000</td>\n",
       "      <td>1.000000</td>\n",
       "      <td>0.000000</td>\n",
       "      <td>1.000000</td>\n",
       "      <td>0.000000</td>\n",
       "      <td>1.000000</td>\n",
       "      <td>0.000000</td>\n",
       "      <td>2.000000</td>\n",
       "      <td>25.000000</td>\n",
       "      <td>6.000000</td>\n",
       "    </tr>\n",
       "    <tr>\n",
       "      <th>max</th>\n",
       "      <td>36.000000</td>\n",
       "      <td>121.000000</td>\n",
       "      <td>NaN</td>\n",
       "      <td>NaN</td>\n",
       "      <td>1.000000</td>\n",
       "      <td>30000.000000</td>\n",
       "      <td>25.000000</td>\n",
       "      <td>120000.000000</td>\n",
       "      <td>150.000000</td>\n",
       "      <td>75.000000</td>\n",
       "      <td>...</td>\n",
       "      <td>1.000000</td>\n",
       "      <td>1.000000</td>\n",
       "      <td>1.000000</td>\n",
       "      <td>1.000000</td>\n",
       "      <td>1.000000</td>\n",
       "      <td>1.000000</td>\n",
       "      <td>1.000000</td>\n",
       "      <td>5.000000</td>\n",
       "      <td>100.000000</td>\n",
       "      <td>75.000000</td>\n",
       "    </tr>\n",
       "  </tbody>\n",
       "</table>\n",
       "<p>11 rows × 30 columns</p>\n",
       "</div>"
      ],
      "text/plain": [
       "        episode_number  startup_number           brand_name   description  \\\n",
       "count       121.000000      121.000000                  121           121   \n",
       "unique             NaN             NaN                  121           121   \n",
       "top                NaN             NaN  BluePine Industries  Frozen Momos   \n",
       "freq               NaN             NaN                    1             1   \n",
       "mean         19.305785       61.000000                  NaN           NaN   \n",
       "std          10.375326       35.073732                  NaN           NaN   \n",
       "min           1.000000        1.000000                  NaN           NaN   \n",
       "25%          11.000000       31.000000                  NaN           NaN   \n",
       "50%          19.000000       61.000000                  NaN           NaN   \n",
       "75%          28.000000       91.000000                  NaN           NaN   \n",
       "max          36.000000      121.000000                  NaN           NaN   \n",
       "\n",
       "        deal_offered  startup_ask_amount_lakhs  startup_ask_percentage  \\\n",
       "count     121.000000                121.000000              121.000000   \n",
       "unique           NaN                       NaN                     NaN   \n",
       "top              NaN                       NaN                     NaN   \n",
       "freq             NaN                       NaN                     NaN   \n",
       "mean        0.561983                312.338851                5.083306   \n",
       "std         0.498206               2721.640471                3.882554   \n",
       "min         0.000000                  0.001010                0.250000   \n",
       "25%         0.000000                 45.000000                2.000000   \n",
       "50%         1.000000                 50.000000                5.000000   \n",
       "75%         1.000000                 80.000000                7.000000   \n",
       "max         1.000000              30000.000000               25.000000   \n",
       "\n",
       "        startup_ask_valuation  deal_amount_lakhs  deal_equity  ...  \\\n",
       "count              121.000000         121.000000   121.000000  ...   \n",
       "unique                    NaN                NaN          NaN  ...   \n",
       "top                       NaN                NaN          NaN  ...   \n",
       "freq                      NaN                NaN          NaN  ...   \n",
       "mean              4230.182727          31.925629     8.799421  ...   \n",
       "std              12329.894575          36.847011    12.948175  ...   \n",
       "min                  0.010000           0.000000     0.000000  ...   \n",
       "25%                666.670000           0.000000     0.000000  ...   \n",
       "50%               1333.330000          21.000000     3.000000  ...   \n",
       "75%               3000.000000          50.000000    15.000000  ...   \n",
       "max             120000.000000         150.000000    75.000000  ...   \n",
       "\n",
       "        ghazal_invested  namita_present  namita_invested  peyush_present  \\\n",
       "count        121.000000      121.000000       121.000000      121.000000   \n",
       "unique              NaN             NaN              NaN             NaN   \n",
       "top                 NaN             NaN              NaN             NaN   \n",
       "freq                NaN             NaN              NaN             NaN   \n",
       "mean           0.057851        0.909091         0.198347        0.760331   \n",
       "std            0.234433        0.288675         0.400413        0.428657   \n",
       "min            0.000000        0.000000         0.000000        0.000000   \n",
       "25%            0.000000        1.000000         0.000000        1.000000   \n",
       "50%            0.000000        1.000000         0.000000        1.000000   \n",
       "75%            0.000000        1.000000         0.000000        1.000000   \n",
       "max            1.000000        1.000000         1.000000        1.000000   \n",
       "\n",
       "        peyush_invested  vineeta_present  vineeta_invested  sharks_offering  \\\n",
       "count        121.000000       121.000000        121.000000       121.000000   \n",
       "unique              NaN              NaN               NaN              NaN   \n",
       "top                 NaN              NaN               NaN              NaN   \n",
       "freq                NaN              NaN               NaN              NaN   \n",
       "mean           0.231405         0.578512          0.132231         1.231405   \n",
       "std            0.423484         0.495851          0.340151         1.406890   \n",
       "min            0.000000         0.000000          0.000000         0.000000   \n",
       "25%            0.000000         0.000000          0.000000         0.000000   \n",
       "50%            0.000000         1.000000          0.000000         1.000000   \n",
       "75%            0.000000         1.000000          0.000000         2.000000   \n",
       "max            1.000000         1.000000          1.000000         5.000000   \n",
       "\n",
       "        amount_per_shark  equity_per_shark  \n",
       "count         121.000000        121.000000  \n",
       "unique               NaN               NaN  \n",
       "top                  NaN               NaN  \n",
       "freq                 NaN               NaN  \n",
       "mean           18.004134          5.448595  \n",
       "std            23.512490         10.651783  \n",
       "min             0.000000          0.000000  \n",
       "25%             0.000000          0.000000  \n",
       "50%            10.000000          1.250000  \n",
       "75%            25.000000          6.000000  \n",
       "max           100.000000         75.000000  \n",
       "\n",
       "[11 rows x 30 columns]"
      ]
     },
     "execution_count": 9,
     "metadata": {},
     "output_type": "execute_result"
    }
   ],
   "source": [
    "df.describe(include='all')"
   ]
  },
  {
   "cell_type": "markdown",
   "id": "cb3a7405",
   "metadata": {},
   "source": [
    "## 2. Checking for Null Values in the data"
   ]
  },
  {
   "cell_type": "code",
   "execution_count": 10,
   "id": "22f5e397",
   "metadata": {},
   "outputs": [
    {
     "data": {
      "text/plain": [
       "episode_number              0\n",
       "startup_number              0\n",
       "brand_name                  0\n",
       "description                 0\n",
       "deal_offered                0\n",
       "startup_ask_amount_lakhs    0\n",
       "startup_ask_percentage      0\n",
       "startup_ask_valuation       0\n",
       "deal_amount_lakhs           0\n",
       "deal_equity                 0\n",
       "deal_valuation              0\n",
       "loan_element_present        0\n",
       "loan_amount                 0\n",
       "aman_present                0\n",
       "aman_invested               0\n",
       "anupam_present              0\n",
       "anupam_invested             0\n",
       "ashneer_present             0\n",
       "ashneer_invested            0\n",
       "ghazal_present              0\n",
       "ghazal_invested             0\n",
       "namita_present              0\n",
       "namita_invested             0\n",
       "peyush_present              0\n",
       "peyush_invested             0\n",
       "vineeta_present             0\n",
       "vineeta_invested            0\n",
       "sharks_offering             0\n",
       "amount_per_shark            0\n",
       "equity_per_shark            0\n",
       "dtype: int64"
      ]
     },
     "execution_count": 10,
     "metadata": {},
     "output_type": "execute_result"
    }
   ],
   "source": [
    "df.isnull().sum()"
   ]
  },
  {
   "cell_type": "markdown",
   "id": "461c427e",
   "metadata": {},
   "source": [
    "## 3. Counting the present days for each of the Sharks"
   ]
  },
  {
   "cell_type": "code",
   "execution_count": 11,
   "id": "54d17fd0",
   "metadata": {},
   "outputs": [
    {
     "data": {
      "text/plain": [
       "1    102\n",
       "0     19\n",
       "Name: aman_present, dtype: int64"
      ]
     },
     "execution_count": 11,
     "metadata": {},
     "output_type": "execute_result"
    }
   ],
   "source": [
    "df['aman_present'].value_counts()"
   ]
  },
  {
   "cell_type": "code",
   "execution_count": 12,
   "id": "2b5f14fd",
   "metadata": {},
   "outputs": [
    {
     "data": {
      "text/plain": [
       "1    121\n",
       "Name: anupam_present, dtype: int64"
      ]
     },
     "execution_count": 12,
     "metadata": {},
     "output_type": "execute_result"
    }
   ],
   "source": [
    "df['anupam_present'].value_counts()"
   ]
  },
  {
   "cell_type": "code",
   "execution_count": 13,
   "id": "7a937a3b",
   "metadata": {},
   "outputs": [
    {
     "data": {
      "text/plain": [
       "1    98\n",
       "0    23\n",
       "Name: ashneer_present, dtype: int64"
      ]
     },
     "execution_count": 13,
     "metadata": {},
     "output_type": "execute_result"
    }
   ],
   "source": [
    "df['ashneer_present'].value_counts()"
   ]
  },
  {
   "cell_type": "code",
   "execution_count": 14,
   "id": "51e30ed4",
   "metadata": {},
   "outputs": [
    {
     "data": {
      "text/plain": [
       "0    95\n",
       "1    26\n",
       "Name: ghazal_present, dtype: int64"
      ]
     },
     "execution_count": 14,
     "metadata": {},
     "output_type": "execute_result"
    }
   ],
   "source": [
    "df['ghazal_present'].value_counts()"
   ]
  },
  {
   "cell_type": "code",
   "execution_count": 15,
   "id": "53a7977e",
   "metadata": {},
   "outputs": [
    {
     "data": {
      "text/plain": [
       "1    110\n",
       "0     11\n",
       "Name: namita_present, dtype: int64"
      ]
     },
     "execution_count": 15,
     "metadata": {},
     "output_type": "execute_result"
    }
   ],
   "source": [
    "df['namita_present'].value_counts()"
   ]
  },
  {
   "cell_type": "code",
   "execution_count": 16,
   "id": "70797aec",
   "metadata": {},
   "outputs": [
    {
     "data": {
      "text/plain": [
       "1    92\n",
       "0    29\n",
       "Name: peyush_present, dtype: int64"
      ]
     },
     "execution_count": 16,
     "metadata": {},
     "output_type": "execute_result"
    }
   ],
   "source": [
    "df['peyush_present'].value_counts()"
   ]
  },
  {
   "cell_type": "code",
   "execution_count": 17,
   "id": "ac883ce0",
   "metadata": {},
   "outputs": [
    {
     "data": {
      "text/plain": [
       "1    70\n",
       "0    51\n",
       "Name: vineeta_present, dtype: int64"
      ]
     },
     "execution_count": 17,
     "metadata": {},
     "output_type": "execute_result"
    }
   ],
   "source": [
    "df['vineeta_present'].value_counts()"
   ]
  },
  {
   "cell_type": "code",
   "execution_count": 18,
   "id": "d341a944",
   "metadata": {},
   "outputs": [],
   "source": [
    "aman_present = len(df[df['aman_present'] == 1])\n",
    "anupam_present = len(df[df['anupam_present'] == 1])\n",
    "vineeta_present = len(df[df['vineeta_present'] == 1])\n",
    "peyush_present = len(df[df['peyush_present'] == 1])\n",
    "namita_present = len(df[df['namita_present'] == 1])\n",
    "ghazal_present = len(df[df['ghazal_present'] == 1])\n",
    "ashneer_present = len(df[df['ashneer_present'] == 1])"
   ]
  },
  {
   "cell_type": "markdown",
   "id": "04642b29",
   "metadata": {},
   "source": [
    "## 4. Plotting the present days of each of the Sharks"
   ]
  },
  {
   "cell_type": "markdown",
   "id": "ca716a19",
   "metadata": {},
   "source": [
    "### a. Bar Graph Plotting"
   ]
  },
  {
   "cell_type": "code",
   "execution_count": 19,
   "id": "83956be3",
   "metadata": {},
   "outputs": [
    {
     "data": {
      "image/png": "[encoded data removed]",
      "text/plain": [
       "<Figure size 720x360 with 1 Axes>"
      ]
     },
     "metadata": {
      "needs_background": "light"
     },
     "output_type": "display_data"
    }
   ],
   "source": [
    "fig = plt.figure(figsize = (10,5))\n",
    "col_map = plt.get_cmap('tab20b')\n",
    "\n",
    "present = [aman_present, anupam_present, vineeta_present, \n",
    "           peyush_present, namita_present, ghazal_present, ashneer_present]\n",
    "names = ['Aman', 'Anupam', 'Vineeta', 'Peyush', 'Namita', 'Ghazal', 'Ashneer']\n",
    "plt.bar(names, present, color = col_map.colors, width=0.6)\n",
    "plt.xlabel(\"Candidate Name\", fontdict={'fontsize':15})\n",
    "plt.ylabel(\"Startup Nos.\", fontdict={'fontsize':15})\n",
    "plt.title(\"Candidate Name Vs Startup Nos.\",fontdict={'fontsize':20, 'weight': 550})\n",
    "plt.show()"
   ]
  },
  {
   "cell_type": "markdown",
   "id": "2e495fdf",
   "metadata": {},
   "source": [
    "### b. Pie Chart Plotting"
   ]
  },
  {
   "cell_type": "code",
   "execution_count": 20,
   "id": "2e0df331",
   "metadata": {},
   "outputs": [
    {
     "data": {
      "image/png": "[encoded data removed]",
      "text/plain": [
       "<Figure size 432x288 with 1 Axes>"
      ]
     },
     "metadata": {},
     "output_type": "display_data"
    }
   ],
   "source": [
    "# font = {'family': 'serif',\n",
    "#         'color':  'darkred',\n",
    "#         'weight': 'normal',\n",
    "#         'size': 16,\n",
    "#         }\n",
    "col_map = plt.get_cmap('tab20b')\n",
    "plt.pie(present, labels = names, radius = 1.8, autopct = '%0.1f%%', \n",
    "        explode = [0,0.50,0,0,0.25,0,0], colors = col_map.colors)\n",
    "plt.title(\"Percentage of Sharks Present in Startup\",y=1.7, fontdict={'fontsize':20, 'weight': 550})\n",
    "plt.show()"
   ]
  },
  {
   "cell_type": "markdown",
   "id": "76d9f8a1",
   "metadata": {},
   "source": [
    "- Anupam was present in 19.5% of the 36 episodes followed by Namita with 17.8%."
   ]
  },
  {
   "cell_type": "code",
   "execution_count": 21,
   "id": "a84be054",
   "metadata": {},
   "outputs": [],
   "source": [
    "# df.columns"
   ]
  },
  {
   "cell_type": "markdown",
   "id": "bcb5f6ee",
   "metadata": {},
   "source": [
    "## 5. Counting the investments by each Shark"
   ]
  },
  {
   "cell_type": "code",
   "execution_count": 22,
   "id": "cf17ac8f",
   "metadata": {},
   "outputs": [
    {
     "data": {
      "text/plain": [
       "0    92\n",
       "1    29\n",
       "Name: aman_invested, dtype: int64"
      ]
     },
     "execution_count": 22,
     "metadata": {},
     "output_type": "execute_result"
    }
   ],
   "source": [
    "df['aman_invested'].value_counts()"
   ]
  },
  {
   "cell_type": "code",
   "execution_count": 23,
   "id": "1688a6da",
   "metadata": {},
   "outputs": [
    {
     "data": {
      "text/plain": [
       "0    97\n",
       "1    24\n",
       "Name: anupam_invested, dtype: int64"
      ]
     },
     "execution_count": 23,
     "metadata": {},
     "output_type": "execute_result"
    }
   ],
   "source": [
    "df['anupam_invested'].value_counts()"
   ]
  },
  {
   "cell_type": "code",
   "execution_count": 24,
   "id": "3559d8a7",
   "metadata": {},
   "outputs": [
    {
     "data": {
      "text/plain": [
       "0    100\n",
       "1     21\n",
       "Name: ashneer_invested, dtype: int64"
      ]
     },
     "execution_count": 24,
     "metadata": {},
     "output_type": "execute_result"
    }
   ],
   "source": [
    "df['ashneer_invested'].value_counts()"
   ]
  },
  {
   "cell_type": "code",
   "execution_count": 25,
   "id": "0644ce46",
   "metadata": {},
   "outputs": [
    {
     "data": {
      "text/plain": [
       "0    114\n",
       "1      7\n",
       "Name: ghazal_invested, dtype: int64"
      ]
     },
     "execution_count": 25,
     "metadata": {},
     "output_type": "execute_result"
    }
   ],
   "source": [
    "df['ghazal_invested'].value_counts()"
   ]
  },
  {
   "cell_type": "code",
   "execution_count": 26,
   "id": "a45e3c25",
   "metadata": {},
   "outputs": [
    {
     "data": {
      "text/plain": [
       "0    97\n",
       "1    24\n",
       "Name: namita_invested, dtype: int64"
      ]
     },
     "execution_count": 26,
     "metadata": {},
     "output_type": "execute_result"
    }
   ],
   "source": [
    "df['namita_invested'].value_counts()"
   ]
  },
  {
   "cell_type": "code",
   "execution_count": 27,
   "id": "3d7cfda9",
   "metadata": {},
   "outputs": [
    {
     "data": {
      "text/plain": [
       "0    93\n",
       "1    28\n",
       "Name: peyush_invested, dtype: int64"
      ]
     },
     "execution_count": 27,
     "metadata": {},
     "output_type": "execute_result"
    }
   ],
   "source": [
    "df['peyush_invested'].value_counts()"
   ]
  },
  {
   "cell_type": "code",
   "execution_count": 28,
   "id": "daeeb23c",
   "metadata": {},
   "outputs": [
    {
     "data": {
      "text/plain": [
       "0    105\n",
       "1     16\n",
       "Name: vineeta_invested, dtype: int64"
      ]
     },
     "execution_count": 28,
     "metadata": {},
     "output_type": "execute_result"
    }
   ],
   "source": [
    "df['vineeta_invested'].value_counts()"
   ]
  },
  {
   "cell_type": "code",
   "execution_count": 29,
   "id": "1fe668b4",
   "metadata": {},
   "outputs": [],
   "source": [
    "aman_invested = len(df[df['aman_invested'] == 1])\n",
    "anupam_invested = len(df[df['anupam_invested'] == 1])\n",
    "ashneer_invested = len(df[df['ashneer_invested'] == 1])\n",
    "ghazal_invested = len(df[df['ghazal_invested'] == 1])\n",
    "namita_invested = len(df[df['namita_invested'] == 1])\n",
    "peyush_invested = len(df[df['peyush_invested'] == 1])\n",
    "vineeta_invested = len(df[df['vineeta_invested'] == 1])"
   ]
  },
  {
   "cell_type": "markdown",
   "id": "43806ca8",
   "metadata": {},
   "source": [
    "## 6. Plotting the INVESTMENTS by each Shark"
   ]
  },
  {
   "cell_type": "markdown",
   "id": "d4ae96c0",
   "metadata": {},
   "source": [
    "### a. Bar Graph Plotting"
   ]
  },
  {
   "cell_type": "code",
   "execution_count": 30,
   "id": "5e197a17",
   "metadata": {},
   "outputs": [
    {
     "data": {
      "image/png": "[encoded data removed]",
      "text/plain": [
       "<Figure size 720x360 with 1 Axes>"
      ]
     },
     "metadata": {
      "needs_background": "light"
     },
     "output_type": "display_data"
    }
   ],
   "source": [
    "fig = plt.figure(figsize=(10,5))\n",
    "col_map = plt.get_cmap('tab20c')\n",
    "\n",
    "invested = [aman_invested, anupam_invested, ashneer_invested, \n",
    "            ghazal_invested, namita_invested, peyush_invested, vineeta_invested]\n",
    "names = ['Aman', 'Anupam', 'Ashneer', 'Ghazal', 'Namita', 'Peyush', 'Vineeta']\n",
    "plt.bar(names, invested, color = col_map.colors, width=0.6)\n",
    "plt.title(\"Sharks Vs Deals Offered\", fontdict={'fontsize':20, 'weight': 550})\n",
    "plt.xlabel(\"Sharks\", fontdict={'fontsize':15})\n",
    "plt.ylabel(\"Deals offered\", fontdict={'fontsize':15})\n",
    "\n",
    "plt.show()"
   ]
  },
  {
   "cell_type": "markdown",
   "id": "321e6dfb",
   "metadata": {},
   "source": [
    "### b. Pie Chart Plotting"
   ]
  },
  {
   "cell_type": "code",
   "execution_count": 31,
   "id": "f930aa24",
   "metadata": {
    "scrolled": false
   },
   "outputs": [
    {
     "data": {
      "image/png": "[encoded data removed]",
      "text/plain": [
       "<Figure size 432x288 with 1 Axes>"
      ]
     },
     "metadata": {},
     "output_type": "display_data"
    }
   ],
   "source": [
    "col_map = plt.get_cmap('tab20c')\n",
    "plt.pie(invested, labels = names, radius = 1.8, autopct = '%0.1f%%', \n",
    "       explode = [0.50, 0,0,0,0,0.25,0], colors = col_map.colors)\n",
    "plt.title(\"Percentage of Deals Offered\" ,y=1.5, fontdict={'fontsize':20, 'weight': 550})\n",
    "plt.show()"
   ]
  },
  {
   "cell_type": "markdown",
   "id": "45229da6",
   "metadata": {},
   "source": [
    "- Aman invested in most of the startups followed by Peyush, Anupam and Namita."
   ]
  },
  {
   "cell_type": "markdown",
   "id": "2e32fee0",
   "metadata": {},
   "source": [
    "## 7. Finding the top 10 Deals Offered by Sharks"
   ]
  },
  {
   "cell_type": "code",
   "execution_count": 32,
   "id": "70db7620",
   "metadata": {},
   "outputs": [],
   "source": [
    "# based on deal amount\n",
    "top_deals = df.sort_values('deal_amount_lakhs', ascending = False).head(10)"
   ]
  },
  {
   "cell_type": "code",
   "execution_count": 33,
   "id": "023953f9",
   "metadata": {},
   "outputs": [
    {
     "data": {
      "text/html": [
       "<div>\n",
       "<style scoped>\n",
       "    .dataframe tbody tr th:only-of-type {\n",
       "        vertical-align: middle;\n",
       "    }\n",
       "\n",
       "    .dataframe tbody tr th {\n",
       "        vertical-align: top;\n",
       "    }\n",
       "\n",
       "    .dataframe thead th {\n",
       "        text-align: right;\n",
       "    }\n",
       "</style>\n",
       "<table border=\"1\" class=\"dataframe\">\n",
       "  <thead>\n",
       "    <tr style=\"text-align: right;\">\n",
       "      <th></th>\n",
       "      <th>episode_number</th>\n",
       "      <th>startup_number</th>\n",
       "      <th>brand_name</th>\n",
       "      <th>description</th>\n",
       "      <th>deal_offered</th>\n",
       "      <th>startup_ask_amount_lakhs</th>\n",
       "      <th>startup_ask_percentage</th>\n",
       "      <th>startup_ask_valuation</th>\n",
       "      <th>deal_amount_lakhs</th>\n",
       "      <th>deal_equity</th>\n",
       "      <th>...</th>\n",
       "      <th>ghazal_invested</th>\n",
       "      <th>namita_present</th>\n",
       "      <th>namita_invested</th>\n",
       "      <th>peyush_present</th>\n",
       "      <th>peyush_invested</th>\n",
       "      <th>vineeta_present</th>\n",
       "      <th>vineeta_invested</th>\n",
       "      <th>sharks_offering</th>\n",
       "      <th>amount_per_shark</th>\n",
       "      <th>equity_per_shark</th>\n",
       "    </tr>\n",
       "  </thead>\n",
       "  <tbody>\n",
       "    <tr>\n",
       "      <th>50</th>\n",
       "      <td>17</td>\n",
       "      <td>51</td>\n",
       "      <td>Aas Vidyalaya</td>\n",
       "      <td>EdTech App</td>\n",
       "      <td>1</td>\n",
       "      <td>150.0</td>\n",
       "      <td>3.0</td>\n",
       "      <td>5000.00</td>\n",
       "      <td>150.0</td>\n",
       "      <td>15.0</td>\n",
       "      <td>...</td>\n",
       "      <td>0</td>\n",
       "      <td>1</td>\n",
       "      <td>1</td>\n",
       "      <td>1</td>\n",
       "      <td>1</td>\n",
       "      <td>0</td>\n",
       "      <td>0</td>\n",
       "      <td>3</td>\n",
       "      <td>50.000000</td>\n",
       "      <td>5.00</td>\n",
       "    </tr>\n",
       "    <tr>\n",
       "      <th>36</th>\n",
       "      <td>13</td>\n",
       "      <td>37</td>\n",
       "      <td>Annie</td>\n",
       "      <td>Braille Literary Device</td>\n",
       "      <td>1</td>\n",
       "      <td>30.0</td>\n",
       "      <td>5.0</td>\n",
       "      <td>600.00</td>\n",
       "      <td>105.0</td>\n",
       "      <td>3.0</td>\n",
       "      <td>...</td>\n",
       "      <td>0</td>\n",
       "      <td>1</td>\n",
       "      <td>1</td>\n",
       "      <td>1</td>\n",
       "      <td>1</td>\n",
       "      <td>0</td>\n",
       "      <td>0</td>\n",
       "      <td>3</td>\n",
       "      <td>35.000000</td>\n",
       "      <td>1.00</td>\n",
       "    </tr>\n",
       "    <tr>\n",
       "      <th>18</th>\n",
       "      <td>7</td>\n",
       "      <td>19</td>\n",
       "      <td>Raising Superstars</td>\n",
       "      <td>Child Development App</td>\n",
       "      <td>1</td>\n",
       "      <td>100.0</td>\n",
       "      <td>2.0</td>\n",
       "      <td>5000.00</td>\n",
       "      <td>100.0</td>\n",
       "      <td>4.0</td>\n",
       "      <td>...</td>\n",
       "      <td>0</td>\n",
       "      <td>1</td>\n",
       "      <td>0</td>\n",
       "      <td>0</td>\n",
       "      <td>0</td>\n",
       "      <td>1</td>\n",
       "      <td>0</td>\n",
       "      <td>2</td>\n",
       "      <td>50.000000</td>\n",
       "      <td>2.00</td>\n",
       "    </tr>\n",
       "    <tr>\n",
       "      <th>87</th>\n",
       "      <td>27</td>\n",
       "      <td>88</td>\n",
       "      <td>Insurance Samadhan</td>\n",
       "      <td>Insurance Solutions</td>\n",
       "      <td>1</td>\n",
       "      <td>100.0</td>\n",
       "      <td>1.0</td>\n",
       "      <td>10000.00</td>\n",
       "      <td>100.0</td>\n",
       "      <td>4.0</td>\n",
       "      <td>...</td>\n",
       "      <td>0</td>\n",
       "      <td>1</td>\n",
       "      <td>0</td>\n",
       "      <td>1</td>\n",
       "      <td>1</td>\n",
       "      <td>1</td>\n",
       "      <td>0</td>\n",
       "      <td>1</td>\n",
       "      <td>100.000000</td>\n",
       "      <td>4.00</td>\n",
       "    </tr>\n",
       "    <tr>\n",
       "      <th>15</th>\n",
       "      <td>6</td>\n",
       "      <td>16</td>\n",
       "      <td>Skippi Pops</td>\n",
       "      <td>Ice-Pops</td>\n",
       "      <td>1</td>\n",
       "      <td>45.0</td>\n",
       "      <td>5.0</td>\n",
       "      <td>900.00</td>\n",
       "      <td>100.0</td>\n",
       "      <td>15.0</td>\n",
       "      <td>...</td>\n",
       "      <td>0</td>\n",
       "      <td>1</td>\n",
       "      <td>1</td>\n",
       "      <td>0</td>\n",
       "      <td>0</td>\n",
       "      <td>1</td>\n",
       "      <td>1</td>\n",
       "      <td>5</td>\n",
       "      <td>20.000000</td>\n",
       "      <td>3.00</td>\n",
       "    </tr>\n",
       "    <tr>\n",
       "      <th>64</th>\n",
       "      <td>21</td>\n",
       "      <td>65</td>\n",
       "      <td>Get a Whey</td>\n",
       "      <td>Sugar-Free Icecream</td>\n",
       "      <td>1</td>\n",
       "      <td>100.0</td>\n",
       "      <td>8.0</td>\n",
       "      <td>1250.00</td>\n",
       "      <td>100.0</td>\n",
       "      <td>15.0</td>\n",
       "      <td>...</td>\n",
       "      <td>0</td>\n",
       "      <td>0</td>\n",
       "      <td>0</td>\n",
       "      <td>1</td>\n",
       "      <td>0</td>\n",
       "      <td>1</td>\n",
       "      <td>1</td>\n",
       "      <td>3</td>\n",
       "      <td>33.333333</td>\n",
       "      <td>5.00</td>\n",
       "    </tr>\n",
       "    <tr>\n",
       "      <th>12</th>\n",
       "      <td>5</td>\n",
       "      <td>13</td>\n",
       "      <td>Revamp Moto</td>\n",
       "      <td>E-Bike</td>\n",
       "      <td>1</td>\n",
       "      <td>100.0</td>\n",
       "      <td>1.0</td>\n",
       "      <td>10000.00</td>\n",
       "      <td>100.0</td>\n",
       "      <td>1.5</td>\n",
       "      <td>...</td>\n",
       "      <td>0</td>\n",
       "      <td>1</td>\n",
       "      <td>0</td>\n",
       "      <td>0</td>\n",
       "      <td>0</td>\n",
       "      <td>1</td>\n",
       "      <td>0</td>\n",
       "      <td>2</td>\n",
       "      <td>50.000000</td>\n",
       "      <td>0.75</td>\n",
       "    </tr>\n",
       "    <tr>\n",
       "      <th>39</th>\n",
       "      <td>14</td>\n",
       "      <td>40</td>\n",
       "      <td>The Renal Project</td>\n",
       "      <td>Home Dialysis Treatment</td>\n",
       "      <td>1</td>\n",
       "      <td>100.0</td>\n",
       "      <td>3.0</td>\n",
       "      <td>3333.33</td>\n",
       "      <td>100.0</td>\n",
       "      <td>6.0</td>\n",
       "      <td>...</td>\n",
       "      <td>0</td>\n",
       "      <td>1</td>\n",
       "      <td>1</td>\n",
       "      <td>1</td>\n",
       "      <td>0</td>\n",
       "      <td>0</td>\n",
       "      <td>0</td>\n",
       "      <td>2</td>\n",
       "      <td>50.000000</td>\n",
       "      <td>3.00</td>\n",
       "    </tr>\n",
       "    <tr>\n",
       "      <th>79</th>\n",
       "      <td>25</td>\n",
       "      <td>80</td>\n",
       "      <td>Sunfox Technologies</td>\n",
       "      <td>Portable ECG Device</td>\n",
       "      <td>1</td>\n",
       "      <td>100.0</td>\n",
       "      <td>2.0</td>\n",
       "      <td>5000.00</td>\n",
       "      <td>100.0</td>\n",
       "      <td>6.0</td>\n",
       "      <td>...</td>\n",
       "      <td>1</td>\n",
       "      <td>1</td>\n",
       "      <td>1</td>\n",
       "      <td>1</td>\n",
       "      <td>1</td>\n",
       "      <td>1</td>\n",
       "      <td>1</td>\n",
       "      <td>5</td>\n",
       "      <td>20.000000</td>\n",
       "      <td>1.20</td>\n",
       "    </tr>\n",
       "    <tr>\n",
       "      <th>42</th>\n",
       "      <td>15</td>\n",
       "      <td>43</td>\n",
       "      <td>Hammer Lifestyle</td>\n",
       "      <td>Smart Audio Products</td>\n",
       "      <td>1</td>\n",
       "      <td>30.0</td>\n",
       "      <td>3.0</td>\n",
       "      <td>1000.00</td>\n",
       "      <td>100.0</td>\n",
       "      <td>40.0</td>\n",
       "      <td>...</td>\n",
       "      <td>0</td>\n",
       "      <td>1</td>\n",
       "      <td>0</td>\n",
       "      <td>1</td>\n",
       "      <td>0</td>\n",
       "      <td>0</td>\n",
       "      <td>0</td>\n",
       "      <td>1</td>\n",
       "      <td>100.000000</td>\n",
       "      <td>40.00</td>\n",
       "    </tr>\n",
       "  </tbody>\n",
       "</table>\n",
       "<p>10 rows × 30 columns</p>\n",
       "</div>"
      ],
      "text/plain": [
       "    episode_number  startup_number           brand_name  \\\n",
       "50              17              51        Aas Vidyalaya   \n",
       "36              13              37                Annie   \n",
       "18               7              19   Raising Superstars   \n",
       "87              27              88   Insurance Samadhan   \n",
       "15               6              16          Skippi Pops   \n",
       "64              21              65           Get a Whey   \n",
       "12               5              13          Revamp Moto   \n",
       "39              14              40    The Renal Project   \n",
       "79              25              80  Sunfox Technologies   \n",
       "42              15              43     Hammer Lifestyle   \n",
       "\n",
       "                description  deal_offered  startup_ask_amount_lakhs  \\\n",
       "50               EdTech App             1                     150.0   \n",
       "36  Braille Literary Device             1                      30.0   \n",
       "18    Child Development App             1                     100.0   \n",
       "87      Insurance Solutions             1                     100.0   \n",
       "15                 Ice-Pops             1                      45.0   \n",
       "64      Sugar-Free Icecream             1                     100.0   \n",
       "12                   E-Bike             1                     100.0   \n",
       "39  Home Dialysis Treatment             1                     100.0   \n",
       "79      Portable ECG Device             1                     100.0   \n",
       "42     Smart Audio Products             1                      30.0   \n",
       "\n",
       "    startup_ask_percentage  startup_ask_valuation  deal_amount_lakhs  \\\n",
       "50                     3.0                5000.00              150.0   \n",
       "36                     5.0                 600.00              105.0   \n",
       "18                     2.0                5000.00              100.0   \n",
       "87                     1.0               10000.00              100.0   \n",
       "15                     5.0                 900.00              100.0   \n",
       "64                     8.0                1250.00              100.0   \n",
       "12                     1.0               10000.00              100.0   \n",
       "39                     3.0                3333.33              100.0   \n",
       "79                     2.0                5000.00              100.0   \n",
       "42                     3.0                1000.00              100.0   \n",
       "\n",
       "    deal_equity  ...  ghazal_invested  namita_present  namita_invested  \\\n",
       "50         15.0  ...                0               1                1   \n",
       "36          3.0  ...                0               1                1   \n",
       "18          4.0  ...                0               1                0   \n",
       "87          4.0  ...                0               1                0   \n",
       "15         15.0  ...                0               1                1   \n",
       "64         15.0  ...                0               0                0   \n",
       "12          1.5  ...                0               1                0   \n",
       "39          6.0  ...                0               1                1   \n",
       "79          6.0  ...                1               1                1   \n",
       "42         40.0  ...                0               1                0   \n",
       "\n",
       "    peyush_present  peyush_invested  vineeta_present  vineeta_invested  \\\n",
       "50               1                1                0                 0   \n",
       "36               1                1                0                 0   \n",
       "18               0                0                1                 0   \n",
       "87               1                1                1                 0   \n",
       "15               0                0                1                 1   \n",
       "64               1                0                1                 1   \n",
       "12               0                0                1                 0   \n",
       "39               1                0                0                 0   \n",
       "79               1                1                1                 1   \n",
       "42               1                0                0                 0   \n",
       "\n",
       "    sharks_offering  amount_per_shark  equity_per_shark  \n",
       "50                3         50.000000              5.00  \n",
       "36                3         35.000000              1.00  \n",
       "18                2         50.000000              2.00  \n",
       "87                1        100.000000              4.00  \n",
       "15                5         20.000000              3.00  \n",
       "64                3         33.333333              5.00  \n",
       "12                2         50.000000              0.75  \n",
       "39                2         50.000000              3.00  \n",
       "79                5         20.000000              1.20  \n",
       "42                1        100.000000             40.00  \n",
       "\n",
       "[10 rows x 30 columns]"
      ]
     },
     "execution_count": 33,
     "metadata": {},
     "output_type": "execute_result"
    }
   ],
   "source": [
    "top_deals"
   ]
  },
  {
   "cell_type": "markdown",
   "id": "e526d882",
   "metadata": {},
   "source": [
    "## 8. Plotting the top 10 Deals offered by Sharks"
   ]
  },
  {
   "cell_type": "code",
   "execution_count": 34,
   "id": "e703a3ed",
   "metadata": {},
   "outputs": [
    {
     "data": {
      "image/png": "[encoded data removed]",
      "text/plain": [
       "<Figure size 1008x1080 with 2 Axes>"
      ]
     },
     "metadata": {
      "needs_background": "light"
     },
     "output_type": "display_data"
    }
   ],
   "source": [
    "fig, axs = plt.subplots(2,1, figsize=(14, 15))\n",
    "\n",
    "col_map = plt.get_cmap('Dark2')\n",
    "axs[0].barh(top_deals['brand_name'], top_deals['deal_amount_lakhs'], color = col_map.colors)\n",
    "axs[0].set_title('Top 10 Deals', fontdict={'fontsize':20, 'weight': 550})\n",
    "axs[0].set_xlabel('Deal (in Lakhs)', fontdict={'fontsize':13})\n",
    "axs[0].set_ylabel('Brand Name',fontdict={'fontsize':13})\n",
    "for i in range(len(top_deals)):\n",
    "    axs[0].text(top_deals['deal_amount_lakhs'].iloc[i], top_deals['brand_name'].iloc[i], top_deals['deal_amount_lakhs'].iloc[i])\n",
    "\n",
    "col_map = plt.get_cmap('tab10')\n",
    "axs[1].barh(top_deals['brand_name'], top_deals['startup_ask_amount_lakhs'], color = col_map.colors)\n",
    "axs[1].set_title('Deal ask amount', fontdict={'fontsize':20, 'weight': 550})\n",
    "axs[1].set_xlabel('Ask amount (in Lakhs)', fontdict={'fontsize':13})\n",
    "axs[1].set_ylabel('Brand Name',fontdict={'fontsize':13})\n",
    "for i in range(len(top_deals)):\n",
    "    axs[1].text(top_deals['startup_ask_amount_lakhs'].iloc[i], top_deals['brand_name'].iloc[i], top_deals['startup_ask_amount_lakhs'].iloc[i])\n"
   ]
  },
  {
   "cell_type": "markdown",
   "id": "107d92c6",
   "metadata": {},
   "source": [
    "- Aas Vidyalaya (EdTech App) was the top deal in the first season of Shark Tank with 150 Lakhs deal amount. "
   ]
  },
  {
   "cell_type": "markdown",
   "id": "1acbe5bd",
   "metadata": {},
   "source": [
    "## 9. Total Deals taking place out of 121"
   ]
  },
  {
   "cell_type": "code",
   "execution_count": 35,
   "id": "92f6e604",
   "metadata": {},
   "outputs": [],
   "source": [
    "deals_taking_place = df[df['deal_offered'] == 1].shape[0]"
   ]
  },
  {
   "cell_type": "code",
   "execution_count": 36,
   "id": "12c66d9a",
   "metadata": {},
   "outputs": [],
   "source": [
    "deals_not_taking_place = df[df['deal_offered'] == 0].shape[0]"
   ]
  },
  {
   "cell_type": "code",
   "execution_count": 37,
   "id": "11ca936e",
   "metadata": {},
   "outputs": [
    {
     "data": {
      "image/png": "[encoded data removed]",
      "text/plain": [
       "<Figure size 432x288 with 1 Axes>"
      ]
     },
     "metadata": {},
     "output_type": "display_data"
    }
   ],
   "source": [
    "plt.pie([deals_taking_place, deals_not_taking_place], textprops={'fontsize':12}, labels = ['Deals', 'No Deals'], radius = 1.5, autopct = '%0.1f%%')\n",
    "plt.title('Deals taking place', y=1.3, fontdict={'fontsize':20, 'weight': 550})\n",
    "plt.show()"
   ]
  },
  {
   "cell_type": "markdown",
   "id": "5e3c5df0",
   "metadata": {},
   "source": [
    "- 56.2% of 121 deals took place in the season 1 of shark tank."
   ]
  },
  {
   "cell_type": "code",
   "execution_count": null,
   "id": "28e71a26",
   "metadata": {},
   "outputs": [],
   "source": []
  }
 ],
 "metadata": {
  "kernelspec": {
   "display_name": "Python 3 (ipykernel)",
   "language": "python",
   "name": "python3"
  },
  "language_info": {
   "codemirror_mode": {
    "name": "ipython",
    "version": 3
   },
   "file_extension": ".py",
   "mimetype": "text/x-python",
   "name": "python",
   "nbconvert_exporter": "python",
   "pygments_lexer": "ipython3",
   "version": "3.9.13"
  }
 },
 "nbformat": 4,
 "nbformat_minor": 5
}
